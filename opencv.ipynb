{
  "nbformat": 4,
  "nbformat_minor": 0,
  "metadata": {
    "colab": {
      "name": "opencv.ipynb",
      "provenance": [],
      "authorship_tag": "ABX9TyPY0VkWKhwR5aEHWlmCPW5w",
      "include_colab_link": true
    },
    "kernelspec": {
      "name": "python3",
      "display_name": "Python 3"
    },
    "language_info": {
      "name": "python"
    }
  },
  "cells": [
    {
      "cell_type": "markdown",
      "metadata": {
        "id": "view-in-github",
        "colab_type": "text"
      },
      "source": [
        "<a href=\"https://colab.research.google.com/github/nikhilecenitp/Demo-for-learning/blob/master/opencv.ipynb\" target=\"_parent\"><img src=\"https://colab.research.google.com/assets/colab-badge.svg\" alt=\"Open In Colab\"/></a>"
      ]
    },
    {
      "cell_type": "code",
      "metadata": {
        "colab": {
          "base_uri": "https://localhost:8080/"
        },
        "id": "Zs0JeQ1Dy5FD",
        "outputId": "4cd3b7f4-04c6-4c0c-bf6a-1dfe04ede5ee"
      },
      "source": [
        "import cv2\n",
        "print(cv2.__version__)"
      ],
      "execution_count": null,
      "outputs": [
        {
          "output_type": "stream",
          "text": [
            "4.1.2\n"
          ],
          "name": "stdout"
        }
      ]
    },
    {
      "cell_type": "code",
      "metadata": {
        "colab": {
          "base_uri": "https://localhost:8080/"
        },
        "id": "_RP9FvbwMvxs",
        "outputId": "cabb1da6-ed94-49fa-953b-226b2063c68e"
      },
      "source": [
        "image= cv2.imread('image.jpg')\n",
        "dim= image.shape[:2]\n",
        "x= dim[0]\n",
        "y= dim[1]\n",
        "\n",
        "print(\"height={}, width= {}\".format(x,y))"
      ],
      "execution_count": null,
      "outputs": [
        {
          "output_type": "stream",
          "text": [
            "height=640, width= 640\n"
          ],
          "name": "stdout"
        }
      ]
    },
    {
      "cell_type": "code",
      "metadata": {
        "colab": {
          "base_uri": "https://localhost:8080/"
        },
        "id": "lHFz-ekNN8iH",
        "outputId": "3978cec3-3d45-4e20-b004-7e56a0f47e46"
      },
      "source": [
        "R,G,B= image[250,250]\n",
        "print(\"R={}, G= {}, B={}\".format(R,G,B))"
      ],
      "execution_count": null,
      "outputs": [
        {
          "output_type": "stream",
          "text": [
            "R=74, G= 104, B=163\n"
          ],
          "name": "stdout"
        }
      ]
    }
  ]
}